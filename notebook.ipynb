{
 "cells": [
  {
   "cell_type": "markdown",
   "id": "686e5a20",
   "metadata": {},
   "source": [
    "Punto1"
   ]
  },
  {
   "cell_type": "code",
   "execution_count": 19,
   "id": "bfedd9e6",
   "metadata": {},
   "outputs": [],
   "source": [
    "import random\n",
    "\n",
    "def generar_array_universo(n):\n",
    "    return list(range(1, n + 1))\n",
    "\n",
    "def obtener_entero_random(min_val, max_val):\n",
    "    return random.randint(min_val, max_val)\n",
    "\n",
    "def obtener_elemento_random(array):\n",
    "    return random.choice(array)\n",
    "\n",
    "def generar_problema_set_cover(cant_elementos, cant_subconjuntos, tam_min_subconjunto, tam_max_subconjunto):\n",
    "    universo = generar_array_universo(cant_elementos)\n",
    "    subconjuntos = []\n",
    "\n",
    "    # Generar subconjuntos aleatorios\n",
    "    for _ in range(cant_subconjuntos):\n",
    "        tam_subconjunto = obtener_entero_random(tam_min_subconjunto, tam_max_subconjunto)\n",
    "        elementos_subconjunto = set()\n",
    "        while len(elementos_subconjunto) < tam_subconjunto:\n",
    "            elementos_subconjunto.add(obtener_elemento_random(universo))\n",
    "        subconjuntos.append(list(elementos_subconjunto))\n",
    "\n",
    "    # Asegurar que todos los elementos del universo estén cubiertos\n",
    "    elementos_cubiertos = set(elem for subconjunto in subconjuntos for elem in subconjunto)\n",
    "    elementos_faltantes = set(universo) - elementos_cubiertos\n",
    "\n",
    "    for elem in elementos_faltantes:\n",
    "        # Elegimos un subconjunto al azar para agregar el elemento faltante\n",
    "        random.choice(subconjuntos).append(elem)\n",
    "\n",
    "    return {\n",
    "        \"universo\": universo,\n",
    "        \"subconjuntos\": subconjuntos\n",
    "    }\n",
    "\n",
    "primer_universo = generar_problema_set_cover(60, 30, 2, 8)\n"
   ]
  },
  {
   "cell_type": "code",
   "execution_count": 17,
   "id": "ebc0ff79",
   "metadata": {},
   "outputs": [
    {
     "data": {
      "text/plain": [
       "{'universo': [1,\n",
       "  2,\n",
       "  3,\n",
       "  4,\n",
       "  5,\n",
       "  6,\n",
       "  7,\n",
       "  8,\n",
       "  9,\n",
       "  10,\n",
       "  11,\n",
       "  12,\n",
       "  13,\n",
       "  14,\n",
       "  15,\n",
       "  16,\n",
       "  17,\n",
       "  18,\n",
       "  19,\n",
       "  20,\n",
       "  21,\n",
       "  22,\n",
       "  23,\n",
       "  24,\n",
       "  25,\n",
       "  26,\n",
       "  27,\n",
       "  28,\n",
       "  29,\n",
       "  30,\n",
       "  31,\n",
       "  32,\n",
       "  33,\n",
       "  34,\n",
       "  35,\n",
       "  36,\n",
       "  37,\n",
       "  38,\n",
       "  39,\n",
       "  40,\n",
       "  41,\n",
       "  42,\n",
       "  43,\n",
       "  44,\n",
       "  45,\n",
       "  46,\n",
       "  47,\n",
       "  48,\n",
       "  49,\n",
       "  50],\n",
       " 'subconjuntos': [[46, 15, 1],\n",
       "  [34, 12],\n",
       "  [4, 22, 17],\n",
       "  [10, 14],\n",
       "  [9, 42, 30],\n",
       "  [48, 11, 43, 47],\n",
       "  [16, 20, 46, 27],\n",
       "  [34, 12, 46],\n",
       "  [33, 21, 46],\n",
       "  [8, 25, 26, 39],\n",
       "  [24, 48, 49, 28],\n",
       "  [8, 33, 40, 45],\n",
       "  [32, 7, 23],\n",
       "  [48, 18, 36, 2, 13],\n",
       "  [40, 29, 5, 41],\n",
       "  [32, 33, 37],\n",
       "  [8, 19, 3],\n",
       "  [35, 21, 38, 31],\n",
       "  [25, 26, 42],\n",
       "  [50, 19, 4, 6, 44]]}"
      ]
     },
     "execution_count": 17,
     "metadata": {},
     "output_type": "execute_result"
    }
   ],
   "source": [
    "primer_universo"
   ]
  },
  {
   "cell_type": "code",
   "execution_count": 6,
   "id": "f5916ee3",
   "metadata": {},
   "outputs": [],
   "source": [
    "def greedy_set_cover(universe, sets):\n",
    "    undercovered = set(universe)\n",
    "    sets = [set(s) for s in sets] \n",
    "    solution = []\n",
    "\n",
    "    while undercovered:\n",
    "        best_set = max(sets, key=lambda s: len(s & undercovered))\n",
    "        solution.append(best_set)\n",
    "        undercovered -= best_set\n",
    "\n",
    "    return solution"
   ]
  },
  {
   "cell_type": "code",
   "execution_count": 20,
   "id": "68814792",
   "metadata": {},
   "outputs": [
    {
     "data": {
      "text/plain": [
       "[{8, 13, 16, 30, 36, 39, 41, 51, 54},\n",
       " {25, 29, 35, 48, 49, 50, 53, 56},\n",
       " {20, 26, 30, 31, 32, 38, 52},\n",
       " {14, 27, 29, 33, 39, 42, 45, 47},\n",
       " {7, 16, 24, 28, 43, 46, 50, 54},\n",
       " {3, 10, 33, 41, 55, 56, 59},\n",
       " {2, 23, 35, 57, 60},\n",
       " {9, 17, 44, 47},\n",
       " {5, 18, 30, 37, 39, 47, 48, 53},\n",
       " {3, 4, 6, 34, 39, 48},\n",
       " {11, 22},\n",
       " {3, 14, 15, 16, 40, 41, 49},\n",
       " {21, 52, 60},\n",
       " {1, 14, 33},\n",
       " {16, 24, 27, 32, 38, 54, 58},\n",
       " {19, 32, 39, 55},\n",
       " {12, 17, 26, 29, 43, 48, 49}]"
      ]
     },
     "execution_count": 20,
     "metadata": {},
     "output_type": "execute_result"
    }
   ],
   "source": [
    "greedy_set_cover(primer_universo['universo'], primer_universo['subconjuntos'])"
   ]
  }
 ],
 "metadata": {
  "kernelspec": {
   "display_name": "Python 3",
   "language": "python",
   "name": "python3"
  },
  "language_info": {
   "codemirror_mode": {
    "name": "ipython",
    "version": 3
   },
   "file_extension": ".py",
   "mimetype": "text/x-python",
   "name": "python",
   "nbconvert_exporter": "python",
   "pygments_lexer": "ipython3",
   "version": "3.11.2"
  }
 },
 "nbformat": 4,
 "nbformat_minor": 5
}
